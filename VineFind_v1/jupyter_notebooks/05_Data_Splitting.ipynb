version https://git-lfs.github.com/spec/v1
oid sha256:9e38d39db753db2d3ee95f1af64a7d74a7ccf2ead5b067a4f7a4fbd12727a994
size 11353
