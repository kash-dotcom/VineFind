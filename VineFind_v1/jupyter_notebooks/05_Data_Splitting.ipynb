version https://git-lfs.github.com/spec/v1
oid sha256:29f455ac4fbf8079d78d8e9b8ea7346bf3c530a7f3ded98ce7a0a2238e6a35a1
size 20924
