version https://git-lfs.github.com/spec/v1
oid sha256:8ffe4564f6a0664568d7c1a97addd73a50cd1291e015e29820e307f90d62b5fe
size 20430
