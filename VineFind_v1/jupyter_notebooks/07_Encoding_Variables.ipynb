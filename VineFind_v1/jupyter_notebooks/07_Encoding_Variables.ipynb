version https://git-lfs.github.com/spec/v1
oid sha256:b0b7aa404dd1da24039e9120a407047c5f2be794813b58b26a1a992270a0cef8
size 19942
