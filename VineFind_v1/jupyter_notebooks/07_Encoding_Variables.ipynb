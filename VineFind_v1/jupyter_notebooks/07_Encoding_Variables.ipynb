version https://git-lfs.github.com/spec/v1
oid sha256:246e75d0bc0e270a1160ecd17d8d245b2845551506cdc0e2b83a93ac97301a9c
size 8134297
