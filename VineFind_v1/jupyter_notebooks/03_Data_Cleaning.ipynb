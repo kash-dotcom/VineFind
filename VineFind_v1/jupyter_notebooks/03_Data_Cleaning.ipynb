{
  "cells": [
    {
      "cell_type": "markdown",
      "metadata": {
        "id": "0aStgWSO0E0E"
      },
      "source": [
        "# **Data Cleaning Notebook**"
      ]
    },
    {
      "cell_type": "markdown",
      "metadata": {
        "id": "1eLEkw5O0ECa"
      },
      "source": [
        "## Objectives\n",
        "\n",
        "*   Evaluate missing data\n",
        "*   Clean data\n",
        "*   Explore whether the `['description']` variable is truncated\n",
        "\n",
        "## Inputs\n",
        "\n",
        "*   VineFind_v1\\outputs\\datasets\\collection\\wine_reviews_collected.csv\n",
        "\n",
        "## Outputs\n",
        "\n",
        "*   Generate clean dataset -  VineFind_v1/outputs/datasets/cleaned/wine_reviews_cleaned.csv\n",
        "\n",
        "## Conclusions\n",
        "\n",
        " \n",
        "  * Data Cleaning Pipeline\n",
        "  *Drop Variables:  `['customerID', 'TotalCharges' ]`*\n"
      ]
    },
    {
      "cell_type": "markdown",
      "metadata": {
        "id": "9uWZXH9LwoQg"
      },
      "source": [
        "---"
      ]
    },
    {
      "cell_type": "markdown",
      "metadata": {
        "id": "cqP-UeN-z3i2"
      },
      "source": [
        "# Change working directory"
      ]
    },
    {
      "cell_type": "markdown",
      "metadata": {},
      "source": [
        "* We are assuming you will store the notebooks in a subfolder, therefore when running the notebook in the editor, you will need to change the working directory"
      ]
    },
    {
      "cell_type": "markdown",
      "metadata": {
        "id": "aOGIGS-uz3i2"
      },
      "source": [
        "We need to change the working directory from its current folder to its parent folder\n",
        "* We access the current directory with os.getcwd()"
      ]
    },
    {
      "cell_type": "code",
      "execution_count": 1,
      "metadata": {
        "id": "wZfF_j-Bz3i4",
        "outputId": "66943449-1436-4c3d-85c7-b85f9f78349b"
      },
      "outputs": [
        {
          "data": {
            "text/plain": [
              "'c:\\\\Users\\\\purpk\\\\OneDrive\\\\Documents\\\\Coding\\\\VineFind\\\\VineFind\\\\VineFind_v1\\\\jupyter_notebooks'"
            ]
          },
          "execution_count": 1,
          "metadata": {},
          "output_type": "execute_result"
        }
      ],
      "source": [
        "import os\n",
        "current_dir = os.getcwd()\n",
        "current_dir"
      ]
    },
    {
      "cell_type": "markdown",
      "metadata": {
        "id": "9MWW8E7lz3i7"
      },
      "source": [
        "We want to make the parent of the current directory the new current directory\n",
        "* os.path.dirname() gets the parent directory\n",
        "* os.chir() defines the new current directory"
      ]
    },
    {
      "cell_type": "code",
      "execution_count": 2,
      "metadata": {
        "id": "TwHsQRWjz3i9",
        "outputId": "86849db3-cd2f-4cc5-ebb8-2d0caafa1a2c"
      },
      "outputs": [
        {
          "name": "stdout",
          "output_type": "stream",
          "text": [
            "You set a new current directory\n"
          ]
        }
      ],
      "source": [
        "os.chdir(os.path.dirname(current_dir))\n",
        "print(\"You set a new current directory\")"
      ]
    },
    {
      "cell_type": "markdown",
      "metadata": {
        "id": "M_xPk_Ijz3i-"
      },
      "source": [
        "Confirm the new current directory"
      ]
    },
    {
      "cell_type": "code",
      "execution_count": 3,
      "metadata": {
        "id": "vz3S-_kjz3jA",
        "outputId": "00b79ae4-75d0-4a96-d193-ac9ef9847ea2"
      },
      "outputs": [
        {
          "data": {
            "text/plain": [
              "'c:\\\\Users\\\\purpk\\\\OneDrive\\\\Documents\\\\Coding\\\\VineFind\\\\VineFind\\\\VineFind_v1'"
            ]
          },
          "execution_count": 3,
          "metadata": {},
          "output_type": "execute_result"
        }
      ],
      "source": [
        "current_dir = os.getcwd()\n",
        "current_dir"
      ]
    },
    {
      "cell_type": "markdown",
      "metadata": {},
      "source": [
        "# Imports libraries"
      ]
    },
    {
      "cell_type": "code",
      "execution_count": null,
      "metadata": {},
      "outputs": [],
      "source": [
        "import pandas as pd\n",
        "from wordcloud import WordCloud, STOPWORDS\n",
        "import matplotlib.pyplot as plt\n",
        "import pandas as pd \n",
        "import spacy \n",
        "import requests \n",
        "from bs4 import BeautifulSoup\n",
        "# from spacy import displacy\n",
        "# from IPython.display import display"
      ]
    },
    {
      "cell_type": "markdown",
      "metadata": {
        "id": "-mavJ8DibrcQ"
      },
      "source": [
        "# Section 1: Import Data"
      ]
    },
    {
      "cell_type": "markdown",
      "metadata": {},
      "source": [
        "Section 1 content"
      ]
    },
    {
      "cell_type": "code",
      "execution_count": 87,
      "metadata": {},
      "outputs": [
        {
          "data": {
            "text/html": [
              "<div>\n",
              "<style scoped>\n",
              "    .dataframe tbody tr th:only-of-type {\n",
              "        vertical-align: middle;\n",
              "    }\n",
              "\n",
              "    .dataframe tbody tr th {\n",
              "        vertical-align: top;\n",
              "    }\n",
              "\n",
              "    .dataframe thead th {\n",
              "        text-align: right;\n",
              "    }\n",
              "</style>\n",
              "<table border=\"1\" class=\"dataframe\">\n",
              "  <thead>\n",
              "    <tr style=\"text-align: right;\">\n",
              "      <th></th>\n",
              "      <th>Unnamed: 0</th>\n",
              "      <th>country</th>\n",
              "      <th>description</th>\n",
              "      <th>designation</th>\n",
              "      <th>points</th>\n",
              "      <th>price</th>\n",
              "      <th>province</th>\n",
              "      <th>region_1</th>\n",
              "      <th>region_2</th>\n",
              "      <th>variety</th>\n",
              "      <th>winery</th>\n",
              "      <th>taster_name</th>\n",
              "      <th>taster_twitter_handle</th>\n",
              "      <th>title</th>\n",
              "    </tr>\n",
              "  </thead>\n",
              "  <tbody>\n",
              "    <tr>\n",
              "      <th>0</th>\n",
              "      <td>0</td>\n",
              "      <td>US</td>\n",
              "      <td>This tremendous 100% varietal wine hails from Oakville and was aged over three years in oak. Juicy red-cherry fruit and a compelling hint of caramel greet the palate, framed by elegant, fine tannins and a subtle minty tone in the background. Balanced and rewarding from start to finish, it has years ahead of it to develop further nuance. Enjoy 2022–2030.</td>\n",
              "      <td>Martha's Vineyard</td>\n",
              "      <td>96</td>\n",
              "      <td>235.0</td>\n",
              "      <td>California</td>\n",
              "      <td>Napa Valley</td>\n",
              "      <td>Napa</td>\n",
              "      <td>Cabernet Sauvignon</td>\n",
              "      <td>Heitz</td>\n",
              "      <td>NaN</td>\n",
              "      <td>NaN</td>\n",
              "      <td>NaN</td>\n",
              "    </tr>\n",
              "    <tr>\n",
              "      <th>1</th>\n",
              "      <td>1</td>\n",
              "      <td>Spain</td>\n",
              "      <td>Ripe aromas of fig, blackberry and cassis are softened and sweetened by a slathering of oaky chocolate and vanilla. This is full, layered, intense and cushioned on the palate, with rich flavors of chocolaty black fruits and baking spices. A toasty, everlasting finish is heady but ideally balanced. Drink through 2023.</td>\n",
              "      <td>Carodorum Selección Especial Reserva</td>\n",
              "      <td>96</td>\n",
              "      <td>110.0</td>\n",
              "      <td>Northern Spain</td>\n",
              "      <td>Toro</td>\n",
              "      <td>NaN</td>\n",
              "      <td>Tinta de Toro</td>\n",
              "      <td>Bodega Carmen Rodríguez</td>\n",
              "      <td>NaN</td>\n",
              "      <td>NaN</td>\n",
              "      <td>NaN</td>\n",
              "    </tr>\n",
              "    <tr>\n",
              "      <th>2</th>\n",
              "      <td>2</td>\n",
              "      <td>US</td>\n",
              "      <td>Mac Watson honors the memory of a wine once made by his mother in this tremendously delicious, balanced and complex botrytised white. Dark gold in color, it layers toasted hazelnut, pear compote and orange peel flavors, reveling in the succulence of its 122 g/L of residual sugar.</td>\n",
              "      <td>Special Selected Late Harvest</td>\n",
              "      <td>96</td>\n",
              "      <td>90.0</td>\n",
              "      <td>California</td>\n",
              "      <td>Knights Valley</td>\n",
              "      <td>Sonoma</td>\n",
              "      <td>Sauvignon Blanc</td>\n",
              "      <td>Macauley</td>\n",
              "      <td>NaN</td>\n",
              "      <td>NaN</td>\n",
              "      <td>NaN</td>\n",
              "    </tr>\n",
              "    <tr>\n",
              "      <th>3</th>\n",
              "      <td>3</td>\n",
              "      <td>US</td>\n",
              "      <td>This spent 20 months in 30% new French oak, and incorporates fruit from Ponzi's Aurora, Abetina and Madrona vineyards, among others. Aromatic, dense and toasty, it deftly blends aromas and flavors of toast, cigar box, blackberry, black cherry, coffee and graphite. Tannins are polished to a fine sheen, and frame a finish loaded with dark chocolate and espresso. Drink now through 2032.</td>\n",
              "      <td>Reserve</td>\n",
              "      <td>96</td>\n",
              "      <td>65.0</td>\n",
              "      <td>Oregon</td>\n",
              "      <td>Willamette Valley</td>\n",
              "      <td>Willamette Valley</td>\n",
              "      <td>Pinot Noir</td>\n",
              "      <td>Ponzi</td>\n",
              "      <td>NaN</td>\n",
              "      <td>NaN</td>\n",
              "      <td>NaN</td>\n",
              "    </tr>\n",
              "    <tr>\n",
              "      <th>4</th>\n",
              "      <td>4</td>\n",
              "      <td>France</td>\n",
              "      <td>This is the top wine from La Bégude, named after the highest point in the vineyard at 1200 feet. It has structure, density and considerable acidity that is still calming down. With 18 months in wood, the wine has developing an extra richness and concentration. Produced by the Tari family, formerly of Château Giscours in Margaux, it is a wine made for aging. Drink from 2020.</td>\n",
              "      <td>La Brûlade</td>\n",
              "      <td>95</td>\n",
              "      <td>66.0</td>\n",
              "      <td>Provence</td>\n",
              "      <td>Bandol</td>\n",
              "      <td>NaN</td>\n",
              "      <td>Provence red blend</td>\n",
              "      <td>Domaine de la Bégude</td>\n",
              "      <td>NaN</td>\n",
              "      <td>NaN</td>\n",
              "      <td>NaN</td>\n",
              "    </tr>\n",
              "  </tbody>\n",
              "</table>\n",
              "</div>"
            ],
            "text/plain": [
              "   Unnamed: 0 country  \\\n",
              "0           0      US   \n",
              "1           1   Spain   \n",
              "2           2      US   \n",
              "3           3      US   \n",
              "4           4  France   \n",
              "\n",
              "                                                                                                                                                                                                                                                                                                                                                                                          description  \\\n",
              "0                                 This tremendous 100% varietal wine hails from Oakville and was aged over three years in oak. Juicy red-cherry fruit and a compelling hint of caramel greet the palate, framed by elegant, fine tannins and a subtle minty tone in the background. Balanced and rewarding from start to finish, it has years ahead of it to develop further nuance. Enjoy 2022–2030.   \n",
              "1                                                                      Ripe aromas of fig, blackberry and cassis are softened and sweetened by a slathering of oaky chocolate and vanilla. This is full, layered, intense and cushioned on the palate, with rich flavors of chocolaty black fruits and baking spices. A toasty, everlasting finish is heady but ideally balanced. Drink through 2023.   \n",
              "2                                                                                                            Mac Watson honors the memory of a wine once made by his mother in this tremendously delicious, balanced and complex botrytised white. Dark gold in color, it layers toasted hazelnut, pear compote and orange peel flavors, reveling in the succulence of its 122 g/L of residual sugar.   \n",
              "3  This spent 20 months in 30% new French oak, and incorporates fruit from Ponzi's Aurora, Abetina and Madrona vineyards, among others. Aromatic, dense and toasty, it deftly blends aromas and flavors of toast, cigar box, blackberry, black cherry, coffee and graphite. Tannins are polished to a fine sheen, and frame a finish loaded with dark chocolate and espresso. Drink now through 2032.   \n",
              "4            This is the top wine from La Bégude, named after the highest point in the vineyard at 1200 feet. It has structure, density and considerable acidity that is still calming down. With 18 months in wood, the wine has developing an extra richness and concentration. Produced by the Tari family, formerly of Château Giscours in Margaux, it is a wine made for aging. Drink from 2020.   \n",
              "\n",
              "                            designation  points  price        province  \\\n",
              "0                     Martha's Vineyard      96  235.0      California   \n",
              "1  Carodorum Selección Especial Reserva      96  110.0  Northern Spain   \n",
              "2         Special Selected Late Harvest      96   90.0      California   \n",
              "3                               Reserve      96   65.0          Oregon   \n",
              "4                            La Brûlade      95   66.0        Provence   \n",
              "\n",
              "            region_1           region_2             variety  \\\n",
              "0        Napa Valley               Napa  Cabernet Sauvignon   \n",
              "1               Toro                NaN       Tinta de Toro   \n",
              "2     Knights Valley             Sonoma     Sauvignon Blanc   \n",
              "3  Willamette Valley  Willamette Valley          Pinot Noir   \n",
              "4             Bandol                NaN  Provence red blend   \n",
              "\n",
              "                    winery taster_name taster_twitter_handle title  \n",
              "0                    Heitz         NaN                   NaN   NaN  \n",
              "1  Bodega Carmen Rodríguez         NaN                   NaN   NaN  \n",
              "2                 Macauley         NaN                   NaN   NaN  \n",
              "3                    Ponzi         NaN                   NaN   NaN  \n",
              "4     Domaine de la Bégude         NaN                   NaN   NaN  "
            ]
          },
          "execution_count": 87,
          "metadata": {},
          "output_type": "execute_result"
        }
      ],
      "source": [
        "df = pd.read_csv(f\"outputs/datasets/collection/wine_reviews_collected.csv\", dtype={11: str, 12: str, 13: str})\n",
        "df.head(5)"
      ]
    },
    {
      "cell_type": "markdown",
      "metadata": {},
      "source": [
        "# Name Entity Recognition"
      ]
    },
    {
      "cell_type": "markdown",
      "metadata": {},
      "source": [
        "The Name Entity Recognition had high computing cost taking over an hour to process 160K+ entries of raw. The end results created noise and incorrectly labelled entries.\n",
        "\n",
        "For examples , \n",
        "* `Oakville` as ORG (it's a GPE/LOC). \n",
        "* `fig` as ORG (it's a flavour/fruit). \n",
        "* `Juicy` as PERSON (it's a descriptor). \n",
        "* `caramel` as ORG (it's a flavour). \n",
        "* `cigar box` as PERSON (it's a flavour/aroma descriptor). \n"
      ]
    },
    {
      "cell_type": "code",
      "execution_count": null,
      "metadata": {},
      "outputs": [
        {
          "name": "stdout",
          "output_type": "stream",
          "text": [
            "[('100%', 'PERCENT'), ('Oakville', 'ORG'), ('three years', 'DATE'), ('Juicy', 'PERSON'), ('caramel', 'ORG'), ('2022–2030', 'DATE')]\n",
            "[('fig', 'ORG'), ('2023', 'DATE')]\n",
            "[('Mac Watson', 'PERSON'), ('122', 'CARDINAL')]\n",
            "[('20 months', 'DATE'), ('30%', 'PERCENT'), ('French', 'NORP'), ('Ponzi', 'ORG'), ('Aurora', 'PERSON'), ('Abetina', 'GPE'), ('Madrona', 'ORG'), ('cigar box', 'PERSON'), ('2032', 'DATE')]\n",
            "[('La Bégude', 'ORG'), ('1200 feet', 'QUANTITY'), ('18 months', 'DATE'), ('Tari', 'ORG'), ('Château Giscours', 'ORG'), ('Margaux', 'GPE'), ('2020', 'DATE')]\n"
          ]
        }
      ],
      "source": [
        "# https://www.youtube.com/watch?v=JIz-hiRrZ2g&ab_channel=NeuralNine\n",
        "\n",
        "# description = df['description'].values.tolist() \n",
        "# description_test = description[:5]\n",
        "\n",
        "# nlp = spacy.load(\"en_core_web_sm\")\n",
        "\n",
        "# categories = ['CARDINAL', 'DATE', 'EVENT', 'FAC', 'GPE', 'LANGUAGE', 'LAW', 'LOC', 'MONEY', 'NORP', 'ORDINAL', 'ORG', 'PERCENT', 'PERSON', 'PRODUCT', 'QUANTITY', 'TIME', 'WORK_OF_ART']\n",
        "\n",
        "# docs = [nlp(doc) for doc in description_test]\n",
        "\n",
        "# for doc in docs:\n",
        "#     entities = []\n",
        "#     for ent in doc.ents:\n",
        "#         if ent.label_ in categories:\n",
        "#             entities.append((ent.text, ent.label_))\n",
        "#     print(entities)"
      ]
    },
    {
      "cell_type": "markdown",
      "metadata": {},
      "source": [
        "# Section 2: Data Cleaning"
      ]
    },
    {
      "cell_type": "markdown",
      "metadata": {},
      "source": [
        "#### Remove `['unnamed']` feature"
      ]
    },
    {
      "cell_type": "code",
      "execution_count": 7,
      "metadata": {},
      "outputs": [
        {
          "data": {
            "text/html": [
              "<div>\n",
              "<style scoped>\n",
              "    .dataframe tbody tr th:only-of-type {\n",
              "        vertical-align: middle;\n",
              "    }\n",
              "\n",
              "    .dataframe tbody tr th {\n",
              "        vertical-align: top;\n",
              "    }\n",
              "\n",
              "    .dataframe thead th {\n",
              "        text-align: right;\n",
              "    }\n",
              "</style>\n",
              "<table border=\"1\" class=\"dataframe\">\n",
              "  <thead>\n",
              "    <tr style=\"text-align: right;\">\n",
              "      <th></th>\n",
              "      <th>country</th>\n",
              "      <th>description</th>\n",
              "      <th>designation</th>\n",
              "      <th>points</th>\n",
              "      <th>price</th>\n",
              "      <th>province</th>\n",
              "      <th>region_1</th>\n",
              "      <th>region_2</th>\n",
              "      <th>variety</th>\n",
              "      <th>winery</th>\n",
              "      <th>taster_name</th>\n",
              "      <th>taster_twitter_handle</th>\n",
              "      <th>title</th>\n",
              "    </tr>\n",
              "  </thead>\n",
              "  <tbody>\n",
              "    <tr>\n",
              "      <th>0</th>\n",
              "      <td>US</td>\n",
              "      <td>This tremendous 100% varietal wine hails from ...</td>\n",
              "      <td>Martha's Vineyard</td>\n",
              "      <td>96</td>\n",
              "      <td>235.0</td>\n",
              "      <td>California</td>\n",
              "      <td>Napa Valley</td>\n",
              "      <td>Napa</td>\n",
              "      <td>Cabernet Sauvignon</td>\n",
              "      <td>Heitz</td>\n",
              "      <td>NaN</td>\n",
              "      <td>NaN</td>\n",
              "      <td>NaN</td>\n",
              "    </tr>\n",
              "  </tbody>\n",
              "</table>\n",
              "</div>"
            ],
            "text/plain": [
              "  country                                        description  \\\n",
              "0      US  This tremendous 100% varietal wine hails from ...   \n",
              "\n",
              "         designation  points  price    province     region_1 region_2  \\\n",
              "0  Martha's Vineyard      96  235.0  California  Napa Valley     Napa   \n",
              "\n",
              "              variety winery taster_name taster_twitter_handle title  \n",
              "0  Cabernet Sauvignon  Heitz         NaN                   NaN   NaN  "
            ]
          },
          "execution_count": 7,
          "metadata": {},
          "output_type": "execute_result"
        }
      ],
      "source": [
        "df = df.drop(columns=[\"Unnamed: 0\"])\n",
        "df.head(1)"
      ]
    },
    {
      "cell_type": "markdown",
      "metadata": {},
      "source": [
        "### Drop duplicates from the dataset "
      ]
    },
    {
      "cell_type": "code",
      "execution_count": 8,
      "metadata": {},
      "outputs": [
        {
          "name": "stdout",
          "output_type": "stream",
          "text": [
            "<class 'pandas.core.frame.DataFrame'>\n",
            "RangeIndex: 169430 entries, 0 to 169429\n",
            "Data columns (total 13 columns):\n",
            " #   Column                 Non-Null Count   Dtype  \n",
            "---  ------                 --------------   -----  \n",
            " 0   country                169370 non-null  object \n",
            " 1   description            169430 non-null  object \n",
            " 2   designation            119363 non-null  object \n",
            " 3   points                 169430 non-null  int64  \n",
            " 4   price                  156609 non-null  float64\n",
            " 5   province               169370 non-null  object \n",
            " 6   region_1               141517 non-null  object \n",
            " 7   region_2               67516 non-null   object \n",
            " 8   variety                169429 non-null  object \n",
            " 9   winery                 169430 non-null  object \n",
            " 10  taster_name            62354 non-null   object \n",
            " 11  taster_twitter_handle  59291 non-null   object \n",
            " 12  title                  71609 non-null   object \n",
            "dtypes: float64(1), int64(1), object(11)\n",
            "memory usage: 16.8+ MB\n"
          ]
        }
      ],
      "source": [
        "df.drop_duplicates(subset=['description'], inplace=True)\n",
        "df.reset_index(drop=True, inplace=True)\n",
        "df.info()"
      ]
    },
    {
      "cell_type": "code",
      "execution_count": 9,
      "metadata": {},
      "outputs": [
        {
          "data": {
            "text/plain": [
              "'This is the top wine from La Bégude, named after the highest point in the vineyard at 1200 feet. It has structure, density and considerable acidity that is still calming down. With 18 months in wood, the wine has developing an extra richness and concentration. Produced by the Tari family, formerly of Château Giscours in Margaux, it is a wine made for aging. Drink from 2020.'"
            ]
          },
          "execution_count": 9,
          "metadata": {},
          "output_type": "execute_result"
        }
      ],
      "source": [
        "description = df['description']\n",
        "description[4]"
      ]
    },
    {
      "cell_type": "markdown",
      "metadata": {},
      "source": [
        "### Replace **NaN** values with an empty string"
      ]
    },
    {
      "cell_type": "code",
      "execution_count": 10,
      "metadata": {},
      "outputs": [
        {
          "name": "stdout",
          "output_type": "stream",
          "text": [
            "DataFrame shape: (169430, 13)\n"
          ]
        },
        {
          "name": "stderr",
          "output_type": "stream",
          "text": [
            "C:\\Users\\purpk\\AppData\\Local\\Temp\\ipykernel_33596\\2672422803.py:1: FutureWarning: Setting an item of incompatible dtype is deprecated and will raise in a future error of pandas. Value '' has dtype incompatible with float64, please explicitly cast to a compatible dtype first.\n",
            "  df.fillna('', inplace=True)\n"
          ]
        }
      ],
      "source": [
        "df.fillna('', inplace=True)\n",
        "print(f\"DataFrame shape: {df.shape}\")"
      ]
    },
    {
      "cell_type": "code",
      "execution_count": null,
      "metadata": {},
      "outputs": [
        {
          "name": "stdout",
          "output_type": "stream",
          "text": [
            "Orignal DataFrame shape: (169369, 13)\n",
            "DataFrame shape after dropping NaN values: (141517, 13)\n"
          ]
        }
      ],
      "source": [
        "# print(f\"Orignal DataFrame shape: {df.shape}\")\n",
        "# df.dropna(subset=['description', 'province', 'variety','region_1'], inplace=True)\n",
        "\n",
        "# print(f\"DataFrame shape after dropping NaN values: {df.shape}\")"
      ]
    },
    {
      "cell_type": "code",
      "execution_count": null,
      "metadata": {},
      "outputs": [],
      "source": []
    },
    {
      "cell_type": "markdown",
      "metadata": {},
      "source": [
        "---"
      ]
    },
    {
      "cell_type": "markdown",
      "metadata": {},
      "source": [
        "# Cleaning"
      ]
    },
    {
      "cell_type": "code",
      "execution_count": 14,
      "metadata": {},
      "outputs": [
        {
          "data": {
            "text/plain": [
              "country                  0\n",
              "description              0\n",
              "designation              0\n",
              "points                   0\n",
              "price                    0\n",
              "province                 0\n",
              "region_1                 0\n",
              "region_2                 0\n",
              "variety                  0\n",
              "winery                   0\n",
              "taster_name              0\n",
              "taster_twitter_handle    0\n",
              "title                    0\n",
              "dtype: int64"
            ]
          },
          "execution_count": 14,
          "metadata": {},
          "output_type": "execute_result"
        }
      ],
      "source": [
        "df.isnull().sum()"
      ]
    },
    {
      "cell_type": "markdown",
      "metadata": {},
      "source": [
        "### BERT"
      ]
    },
    {
      "cell_type": "markdown",
      "metadata": {},
      "source": [
        "This is data cleaning for BERT. This adds uniformity to the text but tries to perserve the lingustic intention that is required to train the model.\n"
      ]
    },
    {
      "cell_type": "code",
      "execution_count": null,
      "metadata": {},
      "outputs": [
        {
          "name": "stdout",
          "output_type": "stream",
          "text": [
            "<class 'pandas.core.frame.DataFrame'>\n",
            "RangeIndex: 169430 entries, 0 to 169429\n",
            "Data columns (total 13 columns):\n",
            " #   Column                 Non-Null Count   Dtype  \n",
            "---  ------                 --------------   -----  \n",
            " 0   country                169370 non-null  string \n",
            " 1   description            169430 non-null  string \n",
            " 2   designation            119363 non-null  string \n",
            " 3   points                 169430 non-null  int64  \n",
            " 4   price                  156609 non-null  float64\n",
            " 5   province               169370 non-null  string \n",
            " 6   region_1               141517 non-null  string \n",
            " 7   region_2               67516 non-null   string \n",
            " 8   variety                169429 non-null  string \n",
            " 9   winery                 169430 non-null  string \n",
            " 10  taster_name            62354 non-null   string \n",
            " 11  taster_twitter_handle  59291 non-null   string \n",
            " 12  title                  71609 non-null   string \n",
            "dtypes: float64(1), int64(1), string(11)\n",
            "memory usage: 16.8 MB\n"
          ]
        }
      ],
      "source": []
    },
    {
      "cell_type": "markdown",
      "metadata": {},
      "source": []
    },
    {
      "cell_type": "code",
      "execution_count": null,
      "metadata": {},
      "outputs": [],
      "source": []
    },
    {
      "cell_type": "code",
      "execution_count": 11,
      "metadata": {},
      "outputs": [
        {
          "data": {
            "text/html": [
              "<div>\n",
              "<style scoped>\n",
              "    .dataframe tbody tr th:only-of-type {\n",
              "        vertical-align: middle;\n",
              "    }\n",
              "\n",
              "    .dataframe tbody tr th {\n",
              "        vertical-align: top;\n",
              "    }\n",
              "\n",
              "    .dataframe thead th {\n",
              "        text-align: right;\n",
              "    }\n",
              "</style>\n",
              "<table border=\"1\" class=\"dataframe\">\n",
              "  <thead>\n",
              "    <tr style=\"text-align: right;\">\n",
              "      <th></th>\n",
              "      <th>country</th>\n",
              "      <th>description</th>\n",
              "      <th>designation</th>\n",
              "      <th>points</th>\n",
              "      <th>price</th>\n",
              "      <th>province</th>\n",
              "      <th>region_1</th>\n",
              "      <th>region_2</th>\n",
              "      <th>variety</th>\n",
              "      <th>winery</th>\n",
              "      <th>taster_name</th>\n",
              "      <th>taster_twitter_handle</th>\n",
              "      <th>title</th>\n",
              "    </tr>\n",
              "  </thead>\n",
              "  <tbody>\n",
              "    <tr>\n",
              "      <th>169425</th>\n",
              "      <td>Germany</td>\n",
              "      <td>notes of honeysuckle and cantaloupe sweeten th...</td>\n",
              "      <td>Brauneberger Juffer-Sonnenuhr Spatlese</td>\n",
              "      <td>90</td>\n",
              "      <td>28.0</td>\n",
              "      <td>Mosel</td>\n",
              "      <td></td>\n",
              "      <td></td>\n",
              "      <td>Riesling</td>\n",
              "      <td>Dr. H. Thanisch (Erben Muller-Burggraef)</td>\n",
              "      <td>Anna Lee C. Iijima</td>\n",
              "      <td></td>\n",
              "      <td>Dr. H. Thanisch (Erben Muller-Burggraef) 2013 ...</td>\n",
              "    </tr>\n",
              "    <tr>\n",
              "      <th>169426</th>\n",
              "      <td>US</td>\n",
              "      <td>citation is given as much as a decade of bottl...</td>\n",
              "      <td></td>\n",
              "      <td>90</td>\n",
              "      <td>75.0</td>\n",
              "      <td>Oregon</td>\n",
              "      <td>Oregon</td>\n",
              "      <td>Oregon Other</td>\n",
              "      <td>Pinot Noir</td>\n",
              "      <td>Citation</td>\n",
              "      <td>Paul Gregutt</td>\n",
              "      <td>@paulgwine</td>\n",
              "      <td>Citation 2004 Pinot Noir (Oregon)</td>\n",
              "    </tr>\n",
              "    <tr>\n",
              "      <th>169427</th>\n",
              "      <td>France</td>\n",
              "      <td>well-drained gravel soil gives this wine its c...</td>\n",
              "      <td>Kritt</td>\n",
              "      <td>90</td>\n",
              "      <td>30.0</td>\n",
              "      <td>Alsace</td>\n",
              "      <td>Alsace</td>\n",
              "      <td></td>\n",
              "      <td>Gewurztraminer</td>\n",
              "      <td>Domaine Gresser</td>\n",
              "      <td>Roger Voss</td>\n",
              "      <td>@vossroger</td>\n",
              "      <td>Domaine Gresser 2013 Kritt Gewurztraminer (Als...</td>\n",
              "    </tr>\n",
              "    <tr>\n",
              "      <th>169428</th>\n",
              "      <td>France</td>\n",
              "      <td>a dry style of pinot gris this is crisp with s...</td>\n",
              "      <td></td>\n",
              "      <td>90</td>\n",
              "      <td>32.0</td>\n",
              "      <td>Alsace</td>\n",
              "      <td>Alsace</td>\n",
              "      <td></td>\n",
              "      <td>Pinot Gris</td>\n",
              "      <td>Domaine Marcel Deiss</td>\n",
              "      <td>Roger Voss</td>\n",
              "      <td>@vossroger</td>\n",
              "      <td>Domaine Marcel Deiss 2012 Pinot Gris (Alsace)</td>\n",
              "    </tr>\n",
              "    <tr>\n",
              "      <th>169429</th>\n",
              "      <td>France</td>\n",
              "      <td>big rich and off-dry this is powered by intens...</td>\n",
              "      <td>Lieu-dit Harth Cuvee Caroline</td>\n",
              "      <td>90</td>\n",
              "      <td>21.0</td>\n",
              "      <td>Alsace</td>\n",
              "      <td>Alsace</td>\n",
              "      <td></td>\n",
              "      <td>Gewurztraminer</td>\n",
              "      <td>Domaine Schoffit</td>\n",
              "      <td>Roger Voss</td>\n",
              "      <td>@vossroger</td>\n",
              "      <td>Domaine Schoffit 2012 Lieu-dit Harth Cuvee Car...</td>\n",
              "    </tr>\n",
              "  </tbody>\n",
              "</table>\n",
              "</div>"
            ],
            "text/plain": [
              "        country                                        description  \\\n",
              "169425  Germany  notes of honeysuckle and cantaloupe sweeten th...   \n",
              "169426       US  citation is given as much as a decade of bottl...   \n",
              "169427   France  well-drained gravel soil gives this wine its c...   \n",
              "169428   France  a dry style of pinot gris this is crisp with s...   \n",
              "169429   France  big rich and off-dry this is powered by intens...   \n",
              "\n",
              "                                   designation  points price province  \\\n",
              "169425  Brauneberger Juffer-Sonnenuhr Spatlese      90  28.0    Mosel   \n",
              "169426                                              90  75.0   Oregon   \n",
              "169427                                   Kritt      90  30.0   Alsace   \n",
              "169428                                              90  32.0   Alsace   \n",
              "169429           Lieu-dit Harth Cuvee Caroline      90  21.0   Alsace   \n",
              "\n",
              "       region_1      region_2         variety  \\\n",
              "169425                               Riesling   \n",
              "169426   Oregon  Oregon Other      Pinot Noir   \n",
              "169427   Alsace                Gewurztraminer   \n",
              "169428   Alsace                    Pinot Gris   \n",
              "169429   Alsace                Gewurztraminer   \n",
              "\n",
              "                                          winery         taster_name  \\\n",
              "169425  Dr. H. Thanisch (Erben Muller-Burggraef)  Anna Lee C. Iijima   \n",
              "169426                                  Citation        Paul Gregutt   \n",
              "169427                           Domaine Gresser          Roger Voss   \n",
              "169428                      Domaine Marcel Deiss          Roger Voss   \n",
              "169429                          Domaine Schoffit          Roger Voss   \n",
              "\n",
              "       taster_twitter_handle  \\\n",
              "169425                         \n",
              "169426            @paulgwine   \n",
              "169427            @vossroger   \n",
              "169428            @vossroger   \n",
              "169429            @vossroger   \n",
              "\n",
              "                                                    title  \n",
              "169425  Dr. H. Thanisch (Erben Muller-Burggraef) 2013 ...  \n",
              "169426                  Citation 2004 Pinot Noir (Oregon)  \n",
              "169427  Domaine Gresser 2013 Kritt Gewurztraminer (Als...  \n",
              "169428      Domaine Marcel Deiss 2012 Pinot Gris (Alsace)  \n",
              "169429  Domaine Schoffit 2012 Lieu-dit Harth Cuvee Car...  "
            ]
          },
          "execution_count": 11,
          "metadata": {},
          "output_type": "execute_result"
        }
      ],
      "source": [
        "from unidecode import unidecode\n",
        "import re\n",
        "\n",
        "def remove_accents(text):\n",
        "    \"\"\"\n",
        "    Removes accents from text, preserving common Latin-based words.\n",
        "    \"\"\"\n",
        "    exceptions = [\n",
        "        \"Chateau\", \"Château\", \"café\", \"thé\", \"vino\", \"città\", \"vinho\", \"país\"\n",
        "    ]\n",
        "    words = text.split()\n",
        "    cleaned_words = []\n",
        "    for word in words:\n",
        "        if word in exceptions:\n",
        "            cleaned_words.append(word)\n",
        "        else:\n",
        "            cleaned_words.append(unidecode(word))\n",
        "    return \" \".join(cleaned_words)\n",
        "\n",
        "def remove_punctuation_spaces(text):\n",
        "    \"\"\"\n",
        "    Removes only commas, semicolons, full stops, and exclamation marks.\n",
        "    \"\"\"\n",
        "    text = re.sub(r'\\s+', ' ', text)#\n",
        "    return re.sub(r'[,;.!]', '', text)\n",
        "\n",
        "def clean_text(text):\n",
        "    \"\"\"\n",
        "    Cleans the text by removing accents, punctuation, and converting to lowercase.\n",
        "    \"\"\"\n",
        "    text = text.lower()\n",
        "    text = remove_accents(text)\n",
        "    text = remove_punctuation_spaces(text)\n",
        "    return text\n",
        "\n",
        "# Apply cleaning to your text column\n",
        "df['description'] = df['description'].astype(str).apply(clean_text)\n",
        "de_accent = ['designation', 'province', 'region_1', 'region_2', 'variety', 'winery', 'taster_name', 'taster_twitter_handle', 'title']\n",
        "for col in de_accent:\n",
        "    df[col] = df[col].astype(str).apply(remove_accents)\n",
        "\n",
        "df.tail()"
      ]
    },
    {
      "cell_type": "markdown",
      "metadata": {},
      "source": [
        "### Data type conversion"
      ]
    },
    {
      "cell_type": "code",
      "execution_count": 17,
      "metadata": {},
      "outputs": [
        {
          "name": "stdout",
          "output_type": "stream",
          "text": [
            "<class 'pandas.core.frame.DataFrame'>\n",
            "RangeIndex: 169430 entries, 0 to 169429\n",
            "Data columns (total 13 columns):\n",
            " #   Column                 Non-Null Count   Dtype \n",
            "---  ------                 --------------   ----- \n",
            " 0   country                169430 non-null  string\n",
            " 1   description            169430 non-null  string\n",
            " 2   designation            169430 non-null  string\n",
            " 3   points                 169430 non-null  int64 \n",
            " 4   price                  169430 non-null  object\n",
            " 5   province               169430 non-null  string\n",
            " 6   region_1               169430 non-null  string\n",
            " 7   region_2               169430 non-null  string\n",
            " 8   variety                169430 non-null  string\n",
            " 9   winery                 169430 non-null  string\n",
            " 10  taster_name            169430 non-null  string\n",
            " 11  taster_twitter_handle  169430 non-null  string\n",
            " 12  title                  169430 non-null  string\n",
            "dtypes: int64(1), object(1), string(11)\n",
            "memory usage: 16.8+ MB\n"
          ]
        }
      ],
      "source": [
        "columns_to_change = {\"country\", \"description\", \"designation\", \"province\", \"region_1\", \"region_2\", \"variety\", \"winery\", \"taster_name\", \"taster_twitter_handle\", \"title\"}\n",
        "\n",
        "for col in columns_to_change:\n",
        "    if col in df.columns:\n",
        "        df[col] = df[col].astype('string')\n",
        "\n",
        "    else:\n",
        "        print(f\"Column {col} not found in DataFrame.\")\n",
        "\n",
        "df.info()"
      ]
    },
    {
      "cell_type": "markdown",
      "metadata": {},
      "source": [
        "NOTE"
      ]
    },
    {
      "cell_type": "markdown",
      "metadata": {},
      "source": [
        "* You may add as many sections as you want, as long as it supports your project workflow.\n",
        "* All notebook's cells should be run top-down (you can't create a dynamic wherein a given point you need to go back to a previous cell to execute some task, like go back to a previous cell and refresh a variable content)"
      ]
    },
    {
      "cell_type": "markdown",
      "metadata": {
        "id": "ltNetd085qHf"
      },
      "source": [
        "# Push files to Repo"
      ]
    },
    {
      "cell_type": "markdown",
      "metadata": {},
      "source": [
        "* If you don't need to push files to Repo, you may replace this section with \"Conclusions and Next Steps\" and state your conclusions and next steps."
      ]
    },
    {
      "cell_type": "code",
      "execution_count": 18,
      "metadata": {
        "id": "aKlnIozA4eQO",
        "outputId": "fd09bc1f-adb1-4511-f6ce-492a6af570c0"
      },
      "outputs": [],
      "source": [
        "import os\n",
        "try:\n",
        "    os.makedirs('outputs/datasets/cleaned', exist_ok=True)\n",
        "except Exception as e:\n",
        "    print(e)\n",
        "\n",
        "df.to_pickle('outputs/datasets/cleaned/wine_reviews_cleaned.pkl')"
      ]
    }
  ],
  "metadata": {
    "accelerator": "GPU",
    "colab": {
      "name": "Data Practitioner Jupyter Notebook.ipynb",
      "provenance": [],
      "toc_visible": true
    },
    "kernelspec": {
      "display_name": ".venv",
      "language": "python",
      "name": "python3"
    },
    "language_info": {
      "codemirror_mode": {
        "name": "ipython",
        "version": 3
      },
      "file_extension": ".py",
      "mimetype": "text/x-python",
      "name": "python",
      "nbconvert_exporter": "python",
      "pygments_lexer": "ipython3",
      "version": "3.11.9"
    },
    "orig_nbformat": 2
  },
  "nbformat": 4,
  "nbformat_minor": 2
}
