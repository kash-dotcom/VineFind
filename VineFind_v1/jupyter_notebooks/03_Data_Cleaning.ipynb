{
  "cells": [
    {
      "cell_type": "markdown",
      "metadata": {
        "id": "0aStgWSO0E0E"
      },
      "source": [
        "# **Data Cleaning Notebook**"
      ]
    },
    {
      "cell_type": "markdown",
      "metadata": {
        "id": "1eLEkw5O0ECa"
      },
      "source": [
        "## Objectives\n",
        "\n",
        "*   Evaluate missing data\n",
        "*   Clean data\n",
        "*   Explore whether the `['description']` variable is truncated\n",
        "\n",
        "## Inputs\n",
        "\n",
        "*   VineFind_v1\\outputs\\datasets\\collection\\wine_reviews_collected.csv\n",
        "\n",
        "## Outputs\n",
        "\n",
        "*   Generate clean dataset -  VineFind_v1/outputs/datasets/cleaned/wine_reviews_cleaned.csv\n",
        "\n",
        "## Conclusions\n",
        "\n",
        " \n",
        "  * Data Cleaning Pipeline\n",
        "  *Drop Variables:  `['customerID', 'TotalCharges' ]`*\n"
      ]
    },
    {
      "cell_type": "markdown",
      "metadata": {
        "id": "9uWZXH9LwoQg"
      },
      "source": [
        "---"
      ]
    },
    {
      "cell_type": "markdown",
      "metadata": {
        "id": "cqP-UeN-z3i2"
      },
      "source": [
        "# Change working directory"
      ]
    },
    {
      "cell_type": "markdown",
      "metadata": {},
      "source": [
        "* We are assuming you will store the notebooks in a subfolder, therefore when running the notebook in the editor, you will need to change the working directory"
      ]
    },
    {
      "cell_type": "markdown",
      "metadata": {
        "id": "aOGIGS-uz3i2"
      },
      "source": [
        "We need to change the working directory from its current folder to its parent folder\n",
        "* We access the current directory with os.getcwd()"
      ]
    },
    {
      "cell_type": "code",
      "execution_count": 2,
      "metadata": {
        "id": "wZfF_j-Bz3i4",
        "outputId": "66943449-1436-4c3d-85c7-b85f9f78349b"
      },
      "outputs": [
        {
          "data": {
            "text/plain": [
              "'c:\\\\Users\\\\purpk\\\\OneDrive\\\\Documents\\\\Coding\\\\VineFind\\\\VineFind\\\\VineFind_v1\\\\jupyter_notebooks'"
            ]
          },
          "execution_count": 2,
          "metadata": {},
          "output_type": "execute_result"
        }
      ],
      "source": [
        "import os\n",
        "current_dir = os.getcwd()\n",
        "current_dir"
      ]
    },
    {
      "cell_type": "markdown",
      "metadata": {
        "id": "9MWW8E7lz3i7"
      },
      "source": [
        "We want to make the parent of the current directory the new current directory\n",
        "* os.path.dirname() gets the parent directory\n",
        "* os.chir() defines the new current directory"
      ]
    },
    {
      "cell_type": "code",
      "execution_count": 3,
      "metadata": {
        "id": "TwHsQRWjz3i9",
        "outputId": "86849db3-cd2f-4cc5-ebb8-2d0caafa1a2c"
      },
      "outputs": [
        {
          "name": "stdout",
          "output_type": "stream",
          "text": [
            "You set a new current directory\n"
          ]
        }
      ],
      "source": [
        "os.chdir(os.path.dirname(current_dir))\n",
        "print(\"You set a new current directory\")"
      ]
    },
    {
      "cell_type": "markdown",
      "metadata": {
        "id": "M_xPk_Ijz3i-"
      },
      "source": [
        "Confirm the new current directory"
      ]
    },
    {
      "cell_type": "code",
      "execution_count": 4,
      "metadata": {
        "id": "vz3S-_kjz3jA",
        "outputId": "00b79ae4-75d0-4a96-d193-ac9ef9847ea2"
      },
      "outputs": [
        {
          "data": {
            "text/plain": [
              "'c:\\\\Users\\\\purpk\\\\OneDrive\\\\Documents\\\\Coding\\\\VineFind\\\\VineFind\\\\VineFind_v1'"
            ]
          },
          "execution_count": 4,
          "metadata": {},
          "output_type": "execute_result"
        }
      ],
      "source": [
        "current_dir = os.getcwd()\n",
        "current_dir"
      ]
    },
    {
      "cell_type": "markdown",
      "metadata": {},
      "source": [
        "# Imports libraries"
      ]
    },
    {
      "cell_type": "code",
      "execution_count": 5,
      "metadata": {},
      "outputs": [],
      "source": [
        "import pandas as pd\n",
        "from wordcloud import WordCloud, STOPWORDS\n",
        "import matplotlib.pyplot as plt"
      ]
    },
    {
      "cell_type": "markdown",
      "metadata": {
        "id": "-mavJ8DibrcQ"
      },
      "source": [
        "# Section 1: Import Data"
      ]
    },
    {
      "cell_type": "markdown",
      "metadata": {},
      "source": [
        "Section 1 content"
      ]
    },
    {
      "cell_type": "code",
      "execution_count": 6,
      "metadata": {},
      "outputs": [
        {
          "data": {
            "text/html": [
              "<div>\n",
              "<style scoped>\n",
              "    .dataframe tbody tr th:only-of-type {\n",
              "        vertical-align: middle;\n",
              "    }\n",
              "\n",
              "    .dataframe tbody tr th {\n",
              "        vertical-align: top;\n",
              "    }\n",
              "\n",
              "    .dataframe thead th {\n",
              "        text-align: right;\n",
              "    }\n",
              "</style>\n",
              "<table border=\"1\" class=\"dataframe\">\n",
              "  <thead>\n",
              "    <tr style=\"text-align: right;\">\n",
              "      <th></th>\n",
              "      <th>Unnamed: 0</th>\n",
              "      <th>country</th>\n",
              "      <th>description</th>\n",
              "      <th>designation</th>\n",
              "      <th>points</th>\n",
              "      <th>price</th>\n",
              "      <th>province</th>\n",
              "      <th>region_1</th>\n",
              "      <th>region_2</th>\n",
              "      <th>variety</th>\n",
              "      <th>winery</th>\n",
              "      <th>taster_name</th>\n",
              "      <th>taster_twitter_handle</th>\n",
              "      <th>title</th>\n",
              "    </tr>\n",
              "  </thead>\n",
              "  <tbody>\n",
              "    <tr>\n",
              "      <th>0</th>\n",
              "      <td>0</td>\n",
              "      <td>US</td>\n",
              "      <td>This tremendous 100% varietal wine hails from ...</td>\n",
              "      <td>Martha's Vineyard</td>\n",
              "      <td>96</td>\n",
              "      <td>235.0</td>\n",
              "      <td>California</td>\n",
              "      <td>Napa Valley</td>\n",
              "      <td>Napa</td>\n",
              "      <td>Cabernet Sauvignon</td>\n",
              "      <td>Heitz</td>\n",
              "      <td>NaN</td>\n",
              "      <td>NaN</td>\n",
              "      <td>NaN</td>\n",
              "    </tr>\n",
              "  </tbody>\n",
              "</table>\n",
              "</div>"
            ],
            "text/plain": [
              "   Unnamed: 0 country                                        description  \\\n",
              "0           0      US  This tremendous 100% varietal wine hails from ...   \n",
              "\n",
              "         designation  points  price    province     region_1 region_2  \\\n",
              "0  Martha's Vineyard      96  235.0  California  Napa Valley     Napa   \n",
              "\n",
              "              variety winery taster_name taster_twitter_handle title  \n",
              "0  Cabernet Sauvignon  Heitz         NaN                   NaN   NaN  "
            ]
          },
          "execution_count": 6,
          "metadata": {},
          "output_type": "execute_result"
        }
      ],
      "source": [
        "df = pd.read_csv(f\"outputs/datasets/collection/wine_reviews_collected.csv\", dtype={11: str, 12: str, 13: str})\n",
        "df.head(1)"
      ]
    },
    {
      "cell_type": "markdown",
      "metadata": {},
      "source": [
        "# Section 2: Data Cleaning"
      ]
    },
    {
      "cell_type": "markdown",
      "metadata": {},
      "source": [
        "#### Remove `['unnamed']` feature"
      ]
    },
    {
      "cell_type": "code",
      "execution_count": 7,
      "metadata": {},
      "outputs": [
        {
          "data": {
            "text/html": [
              "<div>\n",
              "<style scoped>\n",
              "    .dataframe tbody tr th:only-of-type {\n",
              "        vertical-align: middle;\n",
              "    }\n",
              "\n",
              "    .dataframe tbody tr th {\n",
              "        vertical-align: top;\n",
              "    }\n",
              "\n",
              "    .dataframe thead th {\n",
              "        text-align: right;\n",
              "    }\n",
              "</style>\n",
              "<table border=\"1\" class=\"dataframe\">\n",
              "  <thead>\n",
              "    <tr style=\"text-align: right;\">\n",
              "      <th></th>\n",
              "      <th>country</th>\n",
              "      <th>description</th>\n",
              "      <th>designation</th>\n",
              "      <th>points</th>\n",
              "      <th>price</th>\n",
              "      <th>province</th>\n",
              "      <th>region_1</th>\n",
              "      <th>region_2</th>\n",
              "      <th>variety</th>\n",
              "      <th>winery</th>\n",
              "      <th>taster_name</th>\n",
              "      <th>taster_twitter_handle</th>\n",
              "      <th>title</th>\n",
              "    </tr>\n",
              "  </thead>\n",
              "  <tbody>\n",
              "    <tr>\n",
              "      <th>0</th>\n",
              "      <td>US</td>\n",
              "      <td>This tremendous 100% varietal wine hails from ...</td>\n",
              "      <td>Martha's Vineyard</td>\n",
              "      <td>96</td>\n",
              "      <td>235.0</td>\n",
              "      <td>California</td>\n",
              "      <td>Napa Valley</td>\n",
              "      <td>Napa</td>\n",
              "      <td>Cabernet Sauvignon</td>\n",
              "      <td>Heitz</td>\n",
              "      <td>NaN</td>\n",
              "      <td>NaN</td>\n",
              "      <td>NaN</td>\n",
              "    </tr>\n",
              "  </tbody>\n",
              "</table>\n",
              "</div>"
            ],
            "text/plain": [
              "  country                                        description  \\\n",
              "0      US  This tremendous 100% varietal wine hails from ...   \n",
              "\n",
              "         designation  points  price    province     region_1 region_2  \\\n",
              "0  Martha's Vineyard      96  235.0  California  Napa Valley     Napa   \n",
              "\n",
              "              variety winery taster_name taster_twitter_handle title  \n",
              "0  Cabernet Sauvignon  Heitz         NaN                   NaN   NaN  "
            ]
          },
          "execution_count": 7,
          "metadata": {},
          "output_type": "execute_result"
        }
      ],
      "source": [
        "df = df.drop(columns=[\"Unnamed: 0\"])\n",
        "df.head(1)"
      ]
    },
    {
      "cell_type": "markdown",
      "metadata": {},
      "source": [
        "### Drop duplicates from the dataset "
      ]
    },
    {
      "cell_type": "code",
      "execution_count": 10,
      "metadata": {},
      "outputs": [
        {
          "name": "stdout",
          "output_type": "stream",
          "text": [
            "<class 'pandas.core.frame.DataFrame'>\n",
            "RangeIndex: 169430 entries, 0 to 169429\n",
            "Data columns (total 13 columns):\n",
            " #   Column                 Non-Null Count   Dtype  \n",
            "---  ------                 --------------   -----  \n",
            " 0   country                169370 non-null  object \n",
            " 1   description            169430 non-null  object \n",
            " 2   designation            119363 non-null  object \n",
            " 3   points                 169430 non-null  int64  \n",
            " 4   price                  156609 non-null  float64\n",
            " 5   province               169370 non-null  object \n",
            " 6   region_1               141517 non-null  object \n",
            " 7   region_2               67516 non-null   object \n",
            " 8   variety                169429 non-null  object \n",
            " 9   winery                 169430 non-null  object \n",
            " 10  taster_name            62354 non-null   object \n",
            " 11  taster_twitter_handle  59291 non-null   object \n",
            " 12  title                  71609 non-null   object \n",
            "dtypes: float64(1), int64(1), object(11)\n",
            "memory usage: 16.8+ MB\n"
          ]
        }
      ],
      "source": [
        "df.drop_duplicates(subset=['description'], inplace=True)\n",
        "df.reset_index(drop=True, inplace=True)\n",
        "df.info()"
      ]
    },
    {
      "cell_type": "markdown",
      "metadata": {},
      "source": [
        "### Data type conversion"
      ]
    },
    {
      "cell_type": "code",
      "execution_count": 25,
      "metadata": {},
      "outputs": [
        {
          "name": "stdout",
          "output_type": "stream",
          "text": [
            "<class 'pandas.core.frame.DataFrame'>\n",
            "RangeIndex: 280901 entries, 0 to 280900\n",
            "Data columns (total 13 columns):\n",
            " #   Column                 Non-Null Count   Dtype  \n",
            "---  ------                 --------------   -----  \n",
            " 0   country                280833 non-null  string \n",
            " 1   description            280901 non-null  string \n",
            " 2   designation            280901 non-null  string \n",
            " 3   points                 280901 non-null  int64  \n",
            " 4   price                  258210 non-null  float64\n",
            " 5   province               280901 non-null  string \n",
            " 6   region_1               280901 non-null  string \n",
            " 7   region_2               280901 non-null  string \n",
            " 8   variety                280901 non-null  string \n",
            " 9   winery                 280901 non-null  string \n",
            " 10  taster_name            280901 non-null  string \n",
            " 11  taster_twitter_handle  280901 non-null  string \n",
            " 12  title                  280901 non-null  string \n",
            "dtypes: float64(1), int64(1), string(11)\n",
            "memory usage: 27.9 MB\n"
          ]
        }
      ],
      "source": [
        "columns_to_change = {\"country\", \"description\", \"designation\", \"province\", \"region_1\", \"region_2\", \"variety\", \"winery\", \"taster_name\", \"taster_twitter_handle\", \"title\"}\n",
        "\n",
        "for col in columns_to_change:\n",
        "    if col in df.columns:\n",
        "        df[col] = df[col].astype('string')\n",
        "\n",
        "    else:\n",
        "        print(f\"Column {col} not found in DataFrame.\")\n",
        "\n",
        "df.info()"
      ]
    },
    {
      "cell_type": "code",
      "execution_count": 26,
      "metadata": {},
      "outputs": [
        {
          "data": {
            "text/plain": [
              "'this is the top wine from la bgude named after the highest point in the vineyard at feet it has structure density and considerable acidity that is still calming down with months in wood the wine has developing an extra richness and concentration produced by the tari family formerly of chteau giscours in margaux it is a wine made for aging drink from'"
            ]
          },
          "execution_count": 26,
          "metadata": {},
          "output_type": "execute_result"
        }
      ],
      "source": [
        "description = df['description']\n",
        "description[4]"
      ]
    },
    {
      "cell_type": "markdown",
      "metadata": {},
      "source": [
        "---"
      ]
    },
    {
      "cell_type": "markdown",
      "metadata": {},
      "source": [
        "# Cleaning"
      ]
    },
    {
      "cell_type": "code",
      "execution_count": null,
      "metadata": {},
      "outputs": [],
      "source": []
    },
    {
      "cell_type": "markdown",
      "metadata": {},
      "source": [
        "### BERT"
      ]
    },
    {
      "cell_type": "markdown",
      "metadata": {},
      "source": [
        "This is data cleaning for BERT. This adds uniformity to the text but tries to perserve the lingustic intention that is required to train the model.\n"
      ]
    },
    {
      "cell_type": "code",
      "execution_count": 23,
      "metadata": {},
      "outputs": [
        {
          "data": {
            "text/html": [
              "<div>\n",
              "<style scoped>\n",
              "    .dataframe tbody tr th:only-of-type {\n",
              "        vertical-align: middle;\n",
              "    }\n",
              "\n",
              "    .dataframe tbody tr th {\n",
              "        vertical-align: top;\n",
              "    }\n",
              "\n",
              "    .dataframe thead th {\n",
              "        text-align: right;\n",
              "    }\n",
              "</style>\n",
              "<table border=\"1\" class=\"dataframe\">\n",
              "  <thead>\n",
              "    <tr style=\"text-align: right;\">\n",
              "      <th></th>\n",
              "      <th>country</th>\n",
              "      <th>description</th>\n",
              "      <th>designation</th>\n",
              "      <th>points</th>\n",
              "      <th>price</th>\n",
              "      <th>province</th>\n",
              "      <th>region_1</th>\n",
              "      <th>region_2</th>\n",
              "      <th>variety</th>\n",
              "      <th>winery</th>\n",
              "      <th>taster_name</th>\n",
              "      <th>taster_twitter_handle</th>\n",
              "      <th>title</th>\n",
              "    </tr>\n",
              "  </thead>\n",
              "  <tbody>\n",
              "    <tr>\n",
              "      <th>280896</th>\n",
              "      <td>Germany</td>\n",
              "      <td>notes of honeysuckle and cantaloupe sweeten th...</td>\n",
              "      <td>Brauneberger Juffer-Sonnenuhr Spatlese</td>\n",
              "      <td>90</td>\n",
              "      <td>28.0</td>\n",
              "      <td>Mosel</td>\n",
              "      <td>&lt;NA&gt;</td>\n",
              "      <td>&lt;NA&gt;</td>\n",
              "      <td>Riesling</td>\n",
              "      <td>Dr. H. Thanisch (Erben Muller-Burggraef)</td>\n",
              "      <td>Anna Lee C. Iijima</td>\n",
              "      <td>&lt;NA&gt;</td>\n",
              "      <td>Dr. H. Thanisch (Erben Muller-Burggraef) 2013 ...</td>\n",
              "    </tr>\n",
              "    <tr>\n",
              "      <th>280897</th>\n",
              "      <td>US</td>\n",
              "      <td>citation is given as much as a decade of bottl...</td>\n",
              "      <td>&lt;NA&gt;</td>\n",
              "      <td>90</td>\n",
              "      <td>75.0</td>\n",
              "      <td>Oregon</td>\n",
              "      <td>Oregon</td>\n",
              "      <td>Oregon Other</td>\n",
              "      <td>Pinot Noir</td>\n",
              "      <td>Citation</td>\n",
              "      <td>Paul Gregutt</td>\n",
              "      <td>@paulgwine</td>\n",
              "      <td>Citation 2004 Pinot Noir (Oregon)</td>\n",
              "    </tr>\n",
              "    <tr>\n",
              "      <th>280898</th>\n",
              "      <td>France</td>\n",
              "      <td>welldrained gravel soil gives this wine its cr...</td>\n",
              "      <td>Kritt</td>\n",
              "      <td>90</td>\n",
              "      <td>30.0</td>\n",
              "      <td>Alsace</td>\n",
              "      <td>Alsace</td>\n",
              "      <td>&lt;NA&gt;</td>\n",
              "      <td>Gewurztraminer</td>\n",
              "      <td>Domaine Gresser</td>\n",
              "      <td>Roger Voss</td>\n",
              "      <td>@vossroger</td>\n",
              "      <td>Domaine Gresser 2013 Kritt Gewurztraminer (Als...</td>\n",
              "    </tr>\n",
              "    <tr>\n",
              "      <th>280899</th>\n",
              "      <td>France</td>\n",
              "      <td>a dry style of pinot gris this is crisp with s...</td>\n",
              "      <td>&lt;NA&gt;</td>\n",
              "      <td>90</td>\n",
              "      <td>32.0</td>\n",
              "      <td>Alsace</td>\n",
              "      <td>Alsace</td>\n",
              "      <td>&lt;NA&gt;</td>\n",
              "      <td>Pinot Gris</td>\n",
              "      <td>Domaine Marcel Deiss</td>\n",
              "      <td>Roger Voss</td>\n",
              "      <td>@vossroger</td>\n",
              "      <td>Domaine Marcel Deiss 2012 Pinot Gris (Alsace)</td>\n",
              "    </tr>\n",
              "    <tr>\n",
              "      <th>280900</th>\n",
              "      <td>France</td>\n",
              "      <td>big rich and offdry this is powered by intense...</td>\n",
              "      <td>Lieu-dit Harth Cuvee Caroline</td>\n",
              "      <td>90</td>\n",
              "      <td>21.0</td>\n",
              "      <td>Alsace</td>\n",
              "      <td>Alsace</td>\n",
              "      <td>&lt;NA&gt;</td>\n",
              "      <td>Gewurztraminer</td>\n",
              "      <td>Domaine Schoffit</td>\n",
              "      <td>Roger Voss</td>\n",
              "      <td>@vossroger</td>\n",
              "      <td>Domaine Schoffit 2012 Lieu-dit Harth Cuvee Car...</td>\n",
              "    </tr>\n",
              "  </tbody>\n",
              "</table>\n",
              "</div>"
            ],
            "text/plain": [
              "        country                                        description  \\\n",
              "280896  Germany  notes of honeysuckle and cantaloupe sweeten th...   \n",
              "280897       US  citation is given as much as a decade of bottl...   \n",
              "280898   France  welldrained gravel soil gives this wine its cr...   \n",
              "280899   France  a dry style of pinot gris this is crisp with s...   \n",
              "280900   France  big rich and offdry this is powered by intense...   \n",
              "\n",
              "                                   designation  points  price province  \\\n",
              "280896  Brauneberger Juffer-Sonnenuhr Spatlese      90   28.0    Mosel   \n",
              "280897                                    <NA>      90   75.0   Oregon   \n",
              "280898                                   Kritt      90   30.0   Alsace   \n",
              "280899                                    <NA>      90   32.0   Alsace   \n",
              "280900           Lieu-dit Harth Cuvee Caroline      90   21.0   Alsace   \n",
              "\n",
              "       region_1      region_2         variety  \\\n",
              "280896     <NA>          <NA>        Riesling   \n",
              "280897   Oregon  Oregon Other      Pinot Noir   \n",
              "280898   Alsace          <NA>  Gewurztraminer   \n",
              "280899   Alsace          <NA>      Pinot Gris   \n",
              "280900   Alsace          <NA>  Gewurztraminer   \n",
              "\n",
              "                                          winery         taster_name  \\\n",
              "280896  Dr. H. Thanisch (Erben Muller-Burggraef)  Anna Lee C. Iijima   \n",
              "280897                                  Citation        Paul Gregutt   \n",
              "280898                           Domaine Gresser          Roger Voss   \n",
              "280899                      Domaine Marcel Deiss          Roger Voss   \n",
              "280900                          Domaine Schoffit          Roger Voss   \n",
              "\n",
              "       taster_twitter_handle  \\\n",
              "280896                  <NA>   \n",
              "280897            @paulgwine   \n",
              "280898            @vossroger   \n",
              "280899            @vossroger   \n",
              "280900            @vossroger   \n",
              "\n",
              "                                                    title  \n",
              "280896  Dr. H. Thanisch (Erben Muller-Burggraef) 2013 ...  \n",
              "280897                  Citation 2004 Pinot Noir (Oregon)  \n",
              "280898  Domaine Gresser 2013 Kritt Gewurztraminer (Als...  \n",
              "280899      Domaine Marcel Deiss 2012 Pinot Gris (Alsace)  \n",
              "280900  Domaine Schoffit 2012 Lieu-dit Harth Cuvee Car...  "
            ]
          },
          "execution_count": 23,
          "metadata": {},
          "output_type": "execute_result"
        }
      ],
      "source": [
        "from unidecode import unidecode\n",
        "import re\n",
        "\n",
        "def remove_accents(text):\n",
        "    \"\"\"\n",
        "    Removes accents from text, preserving common Latin-based words.\n",
        "    \"\"\"\n",
        "    exceptions = [\n",
        "        \"Chateau\", \"Château\", \"café\", \"thé\", \"vino\", \"città\", \"vinho\", \"país\"\n",
        "    ]\n",
        "    words = text.split()\n",
        "    cleaned_words = []\n",
        "    for word in words:\n",
        "        if word in exceptions:\n",
        "            cleaned_words.append(word)\n",
        "        else:\n",
        "            cleaned_words.append(unidecode(word))\n",
        "    return \" \".join(cleaned_words)\n",
        "\n",
        "def remove_punctuation_spaces(text):\n",
        "    \"\"\"\n",
        "    Removes only commas, semicolons, full stops, and exclamation marks.\n",
        "    \"\"\"\n",
        "    text = re.sub(r'\\s+', ' ', text)#\n",
        "    return re.sub(r'[,;.!]', '', text)\n",
        "\n",
        "def clean_text(text):\n",
        "    \"\"\"\n",
        "    Cleans the text by removing accents, punctuation, and converting to lowercase.\n",
        "    \"\"\"\n",
        "    text = text.lower()\n",
        "    text = remove_accents(text)\n",
        "    text = remove_punctuation_spaces(text)\n",
        "    return text\n",
        "\n",
        "# Apply cleaning to your text column\n",
        "df['description'] = df['description'].astype(str).apply(clean_text)\n",
        "de_accent = ['designation', 'province', 'region_1', 'region_2', 'variety', 'winery', 'taster_name', 'taster_twitter_handle', 'title']\n",
        "for col in de_accent:\n",
        "    df[col] = df[col].astype(str).apply(remove_accents)\n",
        "\n",
        "df.tail()"
      ]
    },
    {
      "cell_type": "markdown",
      "metadata": {},
      "source": [
        "NOTE"
      ]
    },
    {
      "cell_type": "markdown",
      "metadata": {},
      "source": [
        "* You may add as many sections as you want, as long as it supports your project workflow.\n",
        "* All notebook's cells should be run top-down (you can't create a dynamic wherein a given point you need to go back to a previous cell to execute some task, like go back to a previous cell and refresh a variable content)"
      ]
    },
    {
      "cell_type": "markdown",
      "metadata": {
        "id": "ltNetd085qHf"
      },
      "source": [
        "# Push files to Repo"
      ]
    },
    {
      "cell_type": "markdown",
      "metadata": {},
      "source": [
        "* If you don't need to push files to Repo, you may replace this section with \"Conclusions and Next Steps\" and state your conclusions and next steps."
      ]
    },
    {
      "cell_type": "code",
      "execution_count": 32,
      "metadata": {
        "id": "aKlnIozA4eQO",
        "outputId": "fd09bc1f-adb1-4511-f6ce-492a6af570c0"
      },
      "outputs": [],
      "source": [
        "import os\n",
        "try:\n",
        "    os.makedirs('VineFind/VineFind_v1/outputs/datasets/cleaned')\n",
        "except Exception as e:\n",
        "    print(e)\n",
        "\n",
        "df.to_csv('VineFind/VineFind_v1/outputs/datasets/cleaned/wine_reviews_cleaned.csv', index=False)\n"
      ]
    }
  ],
  "metadata": {
    "accelerator": "GPU",
    "colab": {
      "name": "Data Practitioner Jupyter Notebook.ipynb",
      "provenance": [],
      "toc_visible": true
    },
    "kernelspec": {
      "display_name": ".venv",
      "language": "python",
      "name": "python3"
    },
    "language_info": {
      "codemirror_mode": {
        "name": "ipython",
        "version": 3
      },
      "file_extension": ".py",
      "mimetype": "text/x-python",
      "name": "python",
      "nbconvert_exporter": "python",
      "pygments_lexer": "ipython3",
      "version": "3.11.9"
    },
    "orig_nbformat": 2
  },
  "nbformat": 4,
  "nbformat_minor": 2
}
