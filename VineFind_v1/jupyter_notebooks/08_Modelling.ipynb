version https://git-lfs.github.com/spec/v1
oid sha256:4110e60c1000d2c65051acc2908eac8f94219ff7b49ad5f11a9e1f68eeee00b4
size 20619
