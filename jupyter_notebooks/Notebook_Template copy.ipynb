version https://git-lfs.github.com/spec/v1
oid sha256:c7820ec30b1f6af1f1b360cd793fd200bf810aa83992f842ebbe849b70ec17c9
size 6888
